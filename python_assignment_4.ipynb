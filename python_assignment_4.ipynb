{
 "cells": [
  {
   "cell_type": "markdown",
   "metadata": {},
   "source": [
    "1.1 Write a Python Program(with class concepts) to find the area of the triangle using the below\n",
    "formula.\n",
    "area = (s*(s-a)*(s-b)*(s-c)) ** 0.5\n",
    "Function to take the length of the sides of triangle from user should be defined in the parent\n",
    "class and function to calculate the area should be defined in subclass."
   ]
  },
  {
   "cell_type": "code",
   "execution_count": 31,
   "metadata": {},
   "outputs": [
    {
     "name": "stdout",
     "output_type": "stream",
     "text": [
      "Enter Length of Side1: 3\n",
      "Enter Length of Side2: 4\n",
      "Enter Length of Side3: 5\n",
      "\n",
      "Area of Triangle = 6.0\n"
     ]
    }
   ],
   "source": [
    "import math\n",
    "class side:\n",
    "    def __init__(self,side1,side2,side3):\n",
    "        self.side1=int(side1)\n",
    "        self.side2=int(side2)\n",
    "        self.side3=int(side3)\n",
    "        self.s=(self.side1+self.side2+self.side3)/2\n",
    "        \n",
    "class triangle(side):\n",
    "    \n",
    "    def __init(self,*agrs):\n",
    "        super().__init__(*args)  \n",
    "  \n",
    "    def area(self):\n",
    "        return math.sqrt(self.s*(self.s-self.side1)*(self.s-self.side2)*(self.s-self.side3))\n",
    "\n",
    "\n",
    "t1=triangle(input(\"Enter Length of Side1: \"),input(\"Enter Length of Side2: \"),input(\"Enter Length of Side3: \"))\n",
    "print(\"\\nArea of Triangle =\",t1.area())"
   ]
  },
  {
   "cell_type": "markdown",
   "metadata": {},
   "source": [
    "1.2 Write a function filter_long_words() that takes a list of words and an integer n and returns\n",
    "the list of words that are longer than n."
   ]
  },
  {
   "cell_type": "code",
   "execution_count": 36,
   "metadata": {},
   "outputs": [
    {
     "name": "stdout",
     "output_type": "stream",
     "text": [
      "['ccc', 'dddd']\n"
     ]
    }
   ],
   "source": [
    "def filter_long_words(words,length):\n",
    "    return [i for i in words if len(i)>=length]\n",
    "words=[\"a\",\"bb\",\"ccc\",\"dddd\"]\n",
    "length=3\n",
    "print(filter_long_words(words,3))\n"
   ]
  },
  {
   "cell_type": "markdown",
   "metadata": {},
   "source": [
    "2.1 Write a Python program using function concept that maps list of words into a list of integers\n",
    "representing the lengths of the corresponding words.\n",
    "\n",
    "Hint: If a list [ ab,cde,erty] is passed on to the python function output should come as [2,3,4]\n",
    "\n",
    "Here 2,3 and 4 are the lengths of the words in the list."
   ]
  },
  {
   "cell_type": "code",
   "execution_count": 39,
   "metadata": {},
   "outputs": [
    {
     "name": "stdout",
     "output_type": "stream",
     "text": [
      "[2, 3, 4]\n"
     ]
    }
   ],
   "source": [
    "def return_len(words):\n",
    "    return list(map(lambda x:len(x) ,words))\n",
    "\n",
    "words=[ \"ab\",\"cde\",\"erty\"]\n",
    "\n",
    "print(return_len(words))"
   ]
  },
  {
   "cell_type": "markdown",
   "metadata": {},
   "source": [
    "2.3)Write a Python function which takes a character (i.e. a string of length 1) and returns True if\n",
    "it is a vowel, False otherwise."
   ]
  },
  {
   "cell_type": "code",
   "execution_count": 47,
   "metadata": {},
   "outputs": [
    {
     "name": "stdout",
     "output_type": "stream",
     "text": [
      "True\n",
      "True\n",
      "False\n"
     ]
    }
   ],
   "source": [
    "def vowel(char):\n",
    "    return True if char.lower() in 'aeiou' else False\n",
    "print(vowel('a'))\n",
    "print(vowel(\"U\"))\n",
    "print(vowel(\"b\"))"
   ]
  }
 ],
 "metadata": {
  "kernelspec": {
   "display_name": "Python 3",
   "language": "python",
   "name": "python3"
  },
  "language_info": {
   "codemirror_mode": {
    "name": "ipython",
    "version": 3
   },
   "file_extension": ".py",
   "mimetype": "text/x-python",
   "name": "python",
   "nbconvert_exporter": "python",
   "pygments_lexer": "ipython3",
   "version": "3.8.5"
  }
 },
 "nbformat": 4,
 "nbformat_minor": 4
}
